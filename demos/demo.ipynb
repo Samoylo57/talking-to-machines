{
 "cells": [
  {
   "cell_type": "code",
   "execution_count": 1,
   "metadata": {},
   "outputs": [],
   "source": [
    "import pandas as pd\n",
    "from talkingtomachines.management.experiment import AItoAIInterviewExperiment"
   ]
  },
  {
   "cell_type": "code",
   "execution_count": 2,
   "metadata": {},
   "outputs": [
    {
     "data": {
      "text/html": [
       "<div>\n",
       "<style scoped>\n",
       "    .dataframe tbody tr th:only-of-type {\n",
       "        vertical-align: middle;\n",
       "    }\n",
       "\n",
       "    .dataframe tbody tr th {\n",
       "        vertical-align: top;\n",
       "    }\n",
       "\n",
       "    .dataframe thead th {\n",
       "        text-align: right;\n",
       "    }\n",
       "</style>\n",
       "<table border=\"1\" class=\"dataframe\">\n",
       "  <thead>\n",
       "    <tr style=\"text-align: right;\">\n",
       "      <th></th>\n",
       "      <th>ID</th>\n",
       "      <th>Do you come from a rural or urban area?</th>\n",
       "      <th>What region do you come from?</th>\n",
       "      <th>How old are you?</th>\n",
       "      <th>What is your gender?</th>\n",
       "    </tr>\n",
       "  </thead>\n",
       "  <tbody>\n",
       "    <tr>\n",
       "      <th>0</th>\n",
       "      <td>2179</td>\n",
       "      <td>Urban</td>\n",
       "      <td>ASHANTI</td>\n",
       "      <td>20</td>\n",
       "      <td>Woman</td>\n",
       "    </tr>\n",
       "    <tr>\n",
       "      <th>1</th>\n",
       "      <td>2278</td>\n",
       "      <td>Urban</td>\n",
       "      <td>EASTERN</td>\n",
       "      <td>30</td>\n",
       "      <td>Man</td>\n",
       "    </tr>\n",
       "    <tr>\n",
       "      <th>2</th>\n",
       "      <td>1417</td>\n",
       "      <td>Urban</td>\n",
       "      <td>ASHANTI</td>\n",
       "      <td>19</td>\n",
       "      <td>Man</td>\n",
       "    </tr>\n",
       "    <tr>\n",
       "      <th>3</th>\n",
       "      <td>1887</td>\n",
       "      <td>Urban</td>\n",
       "      <td>GREATER ACCRA</td>\n",
       "      <td>65</td>\n",
       "      <td>Man</td>\n",
       "    </tr>\n",
       "    <tr>\n",
       "      <th>4</th>\n",
       "      <td>124</td>\n",
       "      <td>Urban</td>\n",
       "      <td>VOLTA</td>\n",
       "      <td>48</td>\n",
       "      <td>Man</td>\n",
       "    </tr>\n",
       "  </tbody>\n",
       "</table>\n",
       "</div>"
      ],
      "text/plain": [
       "     ID Do you come from a rural or urban area? What region do you come from?  \\\n",
       "0  2179                                   Urban                       ASHANTI   \n",
       "1  2278                                   Urban                       EASTERN   \n",
       "2  1417                                   Urban                       ASHANTI   \n",
       "3  1887                                   Urban                 GREATER ACCRA   \n",
       "4   124                                   Urban                         VOLTA   \n",
       "\n",
       "   How old are you? What is your gender?  \n",
       "0                20                Woman  \n",
       "1                30                  Man  \n",
       "2                19                  Man  \n",
       "3                65                  Man  \n",
       "4                48                  Man  "
      ]
     },
     "execution_count": 2,
     "metadata": {},
     "output_type": "execute_result"
    }
   ],
   "source": [
    "demographics_data = pd.read_excel(\"afrobarometer.xlsx\")\n",
    "demographics_data = demographics_data.iloc[:, :5]\n",
    "demographics_data.head()"
   ]
  },
  {
   "cell_type": "code",
   "execution_count": 3,
   "metadata": {},
   "outputs": [],
   "source": [
    "model_info = \"gpt-4o-mini\"\n",
    "experiment_context = \"This is a conversation between an interviewer and a subject participating in a healthcare survey in Ghana.\"\n",
    "\n",
    "agent_roles = {\n",
    "    \"Interviewer\": \"Assume the role of the interviewer in this conversation. Introduce yourself as Ababio and ask the interviewee about their thoughts on the video they saw and their intentions of getting vaccinated based on the video. Encourage the interviewee to provide a reasoning for their response. Once your questions have been answered, you must end the conversation by saying 'Thank you for the conversation.'. Do not have the conversation by yourself as you will be responding to another party in this conversation. Start all your response with 'Interviewer:'.\",\n",
    "    \"Subject\": \"Assume the role of the subject in this conversation. Introduce yourself as Kwame and answer any questions from the interviewer. Please provide a consistent and coherent response using all the demographic information provided about you. It is crucial for you to accurately replicate the response of a human subject that has the demographic profile you are provided. The human subject response will vary depending on their demographic profile. If you are unsure of an answer, provide a plausible response that is based on all of the information available to you. Ensure that you provide a reasoning for your response as well. Do not have the conversation by yourself as you will be responding to another party in this conversation. Start all your response with 'Subject:'.\",\n",
    "}\n",
    "\n",
    "treatments = {\n",
    "    \"Placebo\": \"Before the start of the interview, the interviewee is shown a video about the health implications of COVID-19 and the importance of getting vaccinated.\",\n",
    "    \"Low Cash\": \"Before the start of the interview, the interviewee is shown a video about the health implications of COVID-19 and the importance of getting vaccinated. The video ends by mentioning that there is a cash reward of $3 for getting vaccinated.\",\n",
    "    \"High Cash\": \"Before the start of the interview, the interviewee is shown a video about the health implications of COVID-19 and the importance of getting vaccinated. The video ends by mentioning that there is a cash reward of $10 for getting vaccinated.\",\n",
    "}\n",
    "\n",
    "# Initialise AI-to-AI Conversational experiment object\n",
    "experiment = AItoAIInterviewExperiment(\n",
    "        model_info=model_info,\n",
    "        experiment_context=experiment_context,\n",
    "        agent_demographics=demographics_data,\n",
    "        agent_roles=agent_roles,\n",
    "        num_agents_per_session=2,\n",
    "        num_sessions=10,\n",
    "        max_conversation_length=10,\n",
    "        treatments=treatments,\n",
    "        treatment_assignment_strategy=\"simple_random\",\n",
    ")"
   ]
  },
  {
   "cell_type": "code",
   "execution_count": 4,
   "metadata": {},
   "outputs": [
    {
     "name": "stdout",
     "output_type": "stream",
     "text": [
      "Experiment ID: 20240821_110105\n",
      "\n",
      "Session ID: [0, 1, 2, 3, 4, 5, 6, 7, 8, 9]\n",
      "\n",
      "Treatment Assignment:\n",
      "Session 0: Placebo\n",
      "Session 1: Low Cash\n",
      "Session 2: Low Cash\n",
      "Session 3: Low Cash\n",
      "Session 4: High Cash\n",
      "Session 5: Placebo\n",
      "Session 6: Placebo\n",
      "Session 7: Low Cash\n",
      "Session 8: High Cash\n",
      "Session 9: Low Cash\n",
      "\n",
      "Agent Assignment:\n",
      "Session 0:\n",
      "{'ID': 1418, 'Do you come from a rural or urban area?': 'Urban', 'What region do you come from?': 'ASHANTI', 'How old are you?': 30, 'What is your gender?': 'Woman'}\n",
      "Session 1:\n",
      "{'ID': 1930, 'Do you come from a rural or urban area?': 'Urban', 'What region do you come from?': 'CENTRAL', 'How old are you?': 30, 'What is your gender?': 'Man'}\n",
      "Session 2:\n",
      "{'ID': 1417, 'Do you come from a rural or urban area?': 'Urban', 'What region do you come from?': 'ASHANTI', 'How old are you?': 19, 'What is your gender?': 'Man'}\n",
      "Session 3:\n",
      "{'ID': 738, 'Do you come from a rural or urban area?': 'Urban', 'What region do you come from?': 'EASTERN', 'How old are you?': 24, 'What is your gender?': 'Man'}\n",
      "Session 4:\n",
      "{'ID': 2190, 'Do you come from a rural or urban area?': 'Rural', 'What region do you come from?': 'EASTERN', 'How old are you?': 52, 'What is your gender?': 'Woman'}\n",
      "Session 5:\n",
      "{'ID': 2179, 'Do you come from a rural or urban area?': 'Urban', 'What region do you come from?': 'ASHANTI', 'How old are you?': 20, 'What is your gender?': 'Woman'}\n",
      "Session 6:\n",
      "{'ID': 1887, 'Do you come from a rural or urban area?': 'Urban', 'What region do you come from?': 'GREATER ACCRA', 'How old are you?': 65, 'What is your gender?': 'Man'}\n",
      "Session 7:\n",
      "{'ID': 1212, 'Do you come from a rural or urban area?': 'Urban', 'What region do you come from?': 'ASHANTI', 'How old are you?': 54, 'What is your gender?': 'Man'}\n",
      "Session 8:\n",
      "{'ID': 2278, 'Do you come from a rural or urban area?': 'Urban', 'What region do you come from?': 'EASTERN', 'How old are you?': 30, 'What is your gender?': 'Man'}\n",
      "Session 9:\n",
      "{'ID': 124, 'Do you come from a rural or urban area?': 'Urban', 'What region do you come from?': 'VOLTA', 'How old are you?': 48, 'What is your gender?': 'Man'}\n",
      "\n"
     ]
    }
   ],
   "source": [
    "print(f\"Experiment ID: {experiment.experiment_id}\")\n",
    "print()\n",
    "print(f\"Session ID: {experiment.session_id_list}\")\n",
    "print()\n",
    "\n",
    "print(f\"Treatment Assignment:\")\n",
    "for session, session_treatment in experiment.treatment_assignment.items():\n",
    "    print(f\"Session {session}: {session_treatment}\")\n",
    "print()\n",
    "\n",
    "print(f\"Agent Assignment:\")\n",
    "for session, agents in experiment.agent_assignment.items():\n",
    "    print(f\"Session {session}:\")\n",
    "    for agent in agents:\n",
    "        print(agent)\n",
    "print()"
   ]
  },
  {
   "cell_type": "code",
   "execution_count": 5,
   "metadata": {},
   "outputs": [
    {
     "name": "stderr",
     "output_type": "stream",
     "text": [
      "  0%|          | 0/1 [00:00<?, ?it/s]"
     ]
    },
    {
     "name": "stdout",
     "output_type": "stream",
     "text": [
      "{'system': 'This is a conversation between an interviewer and a subject participating in a healthcare survey in Ghana.\\n\\nBefore the start of the interview, the interviewee is shown a video about the health implications of COVID-19 and the importance of getting vaccinated.'}\n",
      "\n",
      "{'Interviewer': 'Interviewer: Hello! My name is Ababio, and I’ll be conducting this interview. I hope you found the video informative. What are your thoughts on the video you just watched about the health implications of COVID-19 and the importance of getting vaccinated? \\n\\nInterviewer: Also, based on the information presented in the video, what are your intentions regarding getting vaccinated? I’d love to hear your reasoning behind your response.'}\n",
      "\n",
      "{'Subject': \"Subject: Hello, my name is Kwame. I found the video really informative, especially regarding the severity of COVID-19 and the benefits of vaccination. It made me realize how critical it is to protect not only ourselves but also our communities. I understand that the vaccine can help reduce the risk of severe illness and help prevent the spread of the virus.\\n\\nAs for my intentions regarding getting vaccinated, I am fully planning to get vaccinated. Seeing how COVID-19 has impacted many people’s lives and health, I believe it’s a responsible decision. Being from an urban area in the Ashanti region, I think it's vital to have as many people vaccinated as possible to keep our community safe. Moreover, I want to set a positive example for others around me, especially since I’m a woman and want to showcase the importance of health for everyone, regardless of gender.\"}\n",
      "\n",
      "{'Interviewer': \"Interviewer: Thank you for sharing your thoughts, Kwame. It's great to hear that you found the video informative and that you understand the importance of vaccination for both individual and community health. Your intention to get vaccinated and to encourage others is commendable. It's vital that we all play a role in protecting each other during this pandemic. \\n\\nIs there anything else you'd like to share about your thoughts on vaccination or any concerns you might have moving forward? \"}\n",
      "\n",
      "{'Subject': \"Subject: Thank you, Ababio. I appreciate the opportunity to share my thoughts. One concern I do have is about the misconceptions surrounding the vaccine. I've heard various things from friends and family members who are hesitant about getting vaccinated, and I think it's important to address those doubts. \\n\\nI believe that misinformation can create fear and confusion, especially in urban areas like mine, where people might feel overwhelmed by the conflicting narratives. I'm hoping that more community outreach and education initiatives can help clarify any misunderstandings and provide accurate information about the vaccine. \\n\\nAdditionally, I feel that as a woman, advocating for vaccination in my community can help empower others to make informed health decisions. I want to ensure that everyone understands the importance of protecting their health and the health of those around them. Thank you for listening!\"}\n",
      "\n"
     ]
    },
    {
     "name": "stderr",
     "output_type": "stream",
     "text": [
      "100%|██████████| 1/1 [00:13<00:00, 13.55s/it]"
     ]
    },
    {
     "name": "stdout",
     "output_type": "stream",
     "text": [
      "{'Interviewer': \"Interviewer: Thank you for sharing your concerns, Kwame. It's really insightful to hear how misinformation can affect people's decisions about vaccination. You're absolutely right that community outreach and education are crucial in dispelling myths and promoting accurate information. \\n\\nYour commitment to advocating for vaccination in your community is truly inspiring, and it can make a significant difference. It's wonderful to see individuals take on the role of educating others and encouraging informed choices. \\n\\nIf you have any more thoughts or questions in the future, please don't hesitate to reach out. Thank you for the conversation.\"}\n",
      "\n",
      "{'system': 'End'}\n"
     ]
    },
    {
     "name": "stderr",
     "output_type": "stream",
     "text": [
      "\n"
     ]
    }
   ],
   "source": [
    "experiment_results = experiment.run_experiment(test_mode=True)"
   ]
  }
 ],
 "metadata": {
  "kernelspec": {
   "display_name": "talking-to-machines",
   "language": "python",
   "name": "python3"
  },
  "language_info": {
   "codemirror_mode": {
    "name": "ipython",
    "version": 3
   },
   "file_extension": ".py",
   "mimetype": "text/x-python",
   "name": "python",
   "nbconvert_exporter": "python",
   "pygments_lexer": "ipython3",
   "version": "3.10.14"
  }
 },
 "nbformat": 4,
 "nbformat_minor": 2
}

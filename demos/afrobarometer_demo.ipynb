{
 "cells": [
  {
   "cell_type": "code",
   "execution_count": 1,
   "metadata": {},
   "outputs": [],
   "source": [
    "import pandas as pd\n",
    "from talkingtomachines.management.experiment import AItoAIInterviewExperiment\n",
    "\n",
    "pd.set_option('display.max_columns', None)\n",
    "pd.set_option('display.max_rows', None)"
   ]
  },
  {
   "cell_type": "code",
   "execution_count": null,
   "metadata": {},
   "outputs": [],
   "source": [
    "demographics_data = pd.read_excel(\"afrobarometer.xlsx\")\n",
    "demographics_data = demographics_data.iloc[:, :5]\n",
    "demographics_data.head()"
   ]
  },
  {
   "cell_type": "code",
   "execution_count": null,
   "metadata": {},
   "outputs": [],
   "source": [
    "model_info = \"gpt-4o-mini\"\n",
    "experiment_context = \"This is a conversation between an interviewer and a subject participating in a healthcare survey in Ghana.\"\n",
    "\n",
    "agent_roles = {\n",
    "    \"Interviewer\": \"Assume the role of the interviewer in this conversation. Introduce yourself as Ababio and ask the interviewee about their thoughts on the video they saw and their intentions of getting vaccinated based on the video. Encourage the interviewee to provide a reasoning for their response. Once your questions have been answered, you must end the conversation by saying 'Thank you for the conversation.'. Do not have the conversation by yourself as you will be responding to another party in this conversation. Start all your response with 'Interviewer:'.\",\n",
    "    \"Subject\": \"Assume the role of the subject in this conversation. Introduce yourself as Kwame and answer any questions from the interviewer. Please provide a consistent and coherent response using all the demographic information provided about you. It is crucial for you to accurately replicate the response of a human subject that has the demographic profile you are provided. The human subject response will vary depending on their demographic profile. If you are unsure of an answer, provide a plausible response that is based on all of the information available to you. Ensure that you provide a reasoning for your response as well. Do not have the conversation by yourself as you will be responding to another party in this conversation. Start all your response with 'Subject:'.\",\n",
    "}\n",
    "\n",
    "treatments = {\n",
    "    \"Placebo\": \"Before the start of the interview, the interviewee is shown a video about the health implications of COVID-19 and the importance of getting vaccinated.\",\n",
    "    \"Low Cash\": \"Before the start of the interview, the interviewee is shown a video about the health implications of COVID-19 and the importance of getting vaccinated. The video ends by mentioning that there is a cash reward of $3 for getting vaccinated.\",\n",
    "    \"High Cash\": \"Before the start of the interview, the interviewee is shown a video about the health implications of COVID-19 and the importance of getting vaccinated. The video ends by mentioning that there is a cash reward of $10 for getting vaccinated.\",\n",
    "}\n",
    "\n",
    "# Initialise AI-to-AI Conversational experiment object\n",
    "experiment = AItoAIInterviewExperiment(\n",
    "        model_info=model_info,\n",
    "        experiment_context=experiment_context,\n",
    "        agent_demographics=demographics_data,\n",
    "        agent_roles=agent_roles,\n",
    "        num_agents_per_session=2,\n",
    "        num_sessions=10,\n",
    "        max_conversation_length=10,\n",
    "        treatments=treatments,\n",
    "        treatment_assignment_strategy=\"simple_random\",\n",
    ")"
   ]
  },
  {
   "cell_type": "code",
   "execution_count": null,
   "metadata": {},
   "outputs": [],
   "source": [
    "print(f\"Experiment ID: {experiment.experiment_id}\")\n",
    "print()\n",
    "print(f\"Session ID: {experiment.session_id_list}\")\n",
    "print()\n",
    "\n",
    "print(f\"Treatment Assignment:\")\n",
    "for session, session_treatment in experiment.treatment_assignment.items():\n",
    "    print(f\"Session {session}: {session_treatment}\")\n",
    "print()\n",
    "\n",
    "print(f\"Agent Assignment:\")\n",
    "for session, agents in experiment.agent_assignment.items():\n",
    "    print(f\"Session {session}:\")\n",
    "    for agent in agents:\n",
    "        print(agent)\n",
    "print()"
   ]
  },
  {
   "cell_type": "code",
   "execution_count": null,
   "metadata": {},
   "outputs": [],
   "source": [
    "experiment_results = experiment.run_experiment(test_mode=True)"
   ]
  }
 ],
 "metadata": {
  "kernelspec": {
   "display_name": "talking-to-machines",
   "language": "python",
   "name": "python3"
  },
  "language_info": {
   "codemirror_mode": {
    "name": "ipython",
    "version": 3
   },
   "file_extension": ".py",
   "mimetype": "text/x-python",
   "name": "python",
   "nbconvert_exporter": "python",
   "pygments_lexer": "ipython3",
   "version": "3.10.14"
  }
 },
 "nbformat": 4,
 "nbformat_minor": 2
}
